{
 "cells": [
  {
   "cell_type": "markdown",
   "id": "97443dee-94ee-44a8-8a1a-85fd59234fac",
   "metadata": {
    "pycharm": {
     "name": "#%% md\n"
    }
   },
   "source": [
    "# Santas Helper Demo\n",
    "\n",
    "Quick demo to show how the allocation logic works."
   ]
  },
  {
   "cell_type": "code",
   "execution_count": null,
   "id": "3f9f52e7-2548-4ae4-b975-7f2099fb6d15",
   "metadata": {},
   "outputs": [],
   "source": [
    "# Setup the variables that are specific to your environment (you will need to change this! :-)\n",
    "project_id='mv-santas-helper'\n",
    "dataset_id='santas_helper'\n",
    "service_acc_file='configuration.json'"
   ]
  },
  {
   "cell_type": "code",
   "execution_count": null,
   "id": "54e22554-eebf-40f0-a8e0-6352ac61cd9a",
   "metadata": {
    "pycharm": {
     "name": "#%%\n"
    }
   },
   "outputs": [],
   "source": [
    "# Install any dependencies used (set in the requirements.txt file)\n",
    "!pip install -r requirements.txt"
   ]
  },
  {
   "cell_type": "code",
   "execution_count": null,
   "id": "81c7f204-0dfa-4a2c-ae90-b8d0efa4c598",
   "metadata": {
    "pycharm": {
     "name": "#%%\n"
    }
   },
   "outputs": [],
   "source": [
    "# Load the helper library (primarily for the big query connection object)\n",
    "from lib import *"
   ]
  },
  {
   "cell_type": "code",
   "execution_count": null,
   "id": "9b26d9d7-b456-4cba-8527-04d2e8e791f8",
   "metadata": {
    "pycharm": {
     "name": "#%%\n"
    }
   },
   "outputs": [],
   "source": [
    "# Setup the bigquery connection object using your credentials\n",
    "b = bq(project_id=project_id, credentials_file=service_acc_file)"
   ]
  },
  {
   "cell_type": "code",
   "execution_count": null,
   "id": "5b2da49f-0aaa-4200-966b-5b1637b832b2",
   "metadata": {
    "pycharm": {
     "name": "#%%\n"
    }
   },
   "outputs": [],
   "source": [
    "# Check the connection by reading the child/present scores table\n",
    "childPresentScores = b.q(f'''\n",
    "SELECT * \n",
    "FROM `{project_id}.{dataset_id}.child_present_score` \n",
    "ORDER BY score DESC\n",
    ", child_id\n",
    ", present_id\n",
    "''')"
   ]
  },
  {
   "cell_type": "code",
   "execution_count": null,
   "id": "d6308577-2d28-4a32-8d96-03d23832197f",
   "metadata": {
    "pycharm": {
     "name": "#%%\n"
    }
   },
   "outputs": [],
   "source": [
    "# Take a look at the data (head gives first 5 records)\n",
    "childPresentScores.head()"
   ]
  },
  {
   "cell_type": "code",
   "execution_count": null,
   "id": "260067b2-7e78-45d4-b98f-7330fba3e9dd",
   "metadata": {
    "pycharm": {
     "name": "#%%\n"
    }
   },
   "outputs": [],
   "source": [
    "# Array of present ids -> count of presents allocated - used to keep count of how many times a present has been allocated.\n",
    "# Every time a present is allocated, the stock_level is decremented down, until there are no more of a given present to allocate.\n",
    "pa = b.q(f'''\n",
    "SELECT id AS present_id\n",
    ", stock_level\n",
    "FROM `{project_id}.{dataset_id}.present` \n",
    "ORDER BY id\n",
    "''')\n",
    "\n",
    "pa.head()"
   ]
  },
  {
   "cell_type": "code",
   "execution_count": null,
   "id": "762cf340-7d04-4511-8850-b298c1ad9b5a",
   "metadata": {
    "pycharm": {
     "name": "#%%\n"
    }
   },
   "outputs": [],
   "source": [
    "# Convert to dictionary (i.e. map)\n",
    "presentAllocations = dict()\n",
    "for index, row in pa.iterrows():\n",
    "    presentId = row['present_id']\n",
    "    stockLevel = row['stock_level']\n",
    "    presentAllocations[presentId] = stockLevel\n",
    "\n",
    "# Print out to demo how dictinaries work    \n",
    "print(presentAllocations)  \n",
    "print(presentAllocations[2])"
   ]
  },
  {
   "cell_type": "code",
   "execution_count": null,
   "id": "49315f9b-0d60-4523-9f2c-0f829a74de3e",
   "metadata": {
    "pycharm": {
     "name": "#%%\n"
    }
   },
   "outputs": [],
   "source": [
    "# Array of child ids -> allowed presents for the child - used to keep count of how many presents a child should be given for Xmas. \n",
    "# Every time a child is allocated a present, the value is decremented down, until there are no more presents to allocate to the child\n",
    "ca = b.q(f'''\n",
    "SELECT id AS child_id\n",
    ", number_of_presents\n",
    "FROM `{project_id}.{dataset_id}.child` \n",
    "ORDER BY id\n",
    "''')\n",
    "\n",
    "ca.head()"
   ]
  },
  {
   "cell_type": "code",
   "execution_count": null,
   "id": "758bf8cf-50e0-4230-8582-09432bb9fbe0",
   "metadata": {
    "pycharm": {
     "name": "#%%\n"
    }
   },
   "outputs": [],
   "source": [
    "# Convert to dictionary\n",
    "childAllocations = dict()\n",
    "for index, row in ca.iterrows():\n",
    "    childAllocations[row[\"child_id\"]] = row[\"number_of_presents\"]\n",
    "\n",
    "childAllocations "
   ]
  },
  {
   "cell_type": "code",
   "execution_count": null,
   "id": "e5f07a12-89c9-41dd-89c0-a5cda7c15e9b",
   "metadata": {
    "pycharm": {
     "name": "#%%\n"
    }
   },
   "outputs": [],
   "source": [
    "# Reset Dictionaries here, so you can repeatedly run this code! :-)\n",
    "presentAllocations = dict()\n",
    "for index, row in pa.iterrows():\n",
    "    presentId = row['present_id']\n",
    "    stockLevel = row['stock_level']\n",
    "    presentAllocations[presentId] = stockLevel\n",
    "\n",
    "childAllocations = dict()\n",
    "for index, row in ca.iterrows():\n",
    "    childAllocations[row[\"child_id\"]] = row[\"number_of_presents\"]\n",
    "\n",
    "# Keep child/present allocations in array\n",
    "allocations = [];\n",
    "\n",
    "# # Loop through each of the child scores (highest scores processed first)\n",
    "for index, childPresentScore in childPresentScores.iterrows():\n",
    "    \n",
    "    # Collect variables from dataframe\n",
    "    childId = childPresentScore[\"child_id\"]\n",
    "    presentId = childPresentScore[\"present_id\"]\n",
    "    score = childPresentScore[\"score\"]    \n",
    "\n",
    "    # If there is a negative child/present score, then we won't allocate the present\n",
    "    # TODO - Naughty/Nice!\n",
    "    excludePresent = score < 0;\n",
    "\n",
    "    # Check to see if we've already given away all of the presents\n",
    "    presentAllocationExceeded = presentAllocations[presentId] == 0;\n",
    "    \n",
    "    # Check to see if the child has already been given all of their presents\n",
    "    childAllocationExceeded = childAllocations[childId] == 0 \n",
    "    \n",
    "    # Work out if we should be including this present as an allocation\n",
    "    include = not excludePresent and not presentAllocationExceeded and not childAllocationExceeded \n",
    "        \n",
    "    # If we're including, update counts accordingly\n",
    "    if include:\n",
    "        presentAllocations[presentId] = presentAllocations[presentId] - 1\n",
    "        childAllocations[childId] = childAllocations[childId] - 1\n",
    "\n",
    "    # Add the allocation information to the allocations table (this will include \n",
    "    # products that weren't allocated to a member, as well as those that were.\n",
    "    allocation = Allocation(\n",
    "        childId,\n",
    "        presentId,    \n",
    "        include,\n",
    "        excludePresent,\n",
    "        presentAllocationExceeded,\n",
    "        childAllocationExceeded\n",
    "    )\n",
    "\n",
    "    if index == 0:\n",
    "        print(\"Example Output:\")\n",
    "    \n",
    "    if index < 5:\n",
    "        print(allocation, presentAllocations[childId])\n",
    "        \n",
    "    if index == 5:\n",
    "        print(\"...\")    \n",
    "\n",
    "    allocations.append(allocation)\n",
    "     "
   ]
  },
  {
   "cell_type": "code",
   "execution_count": null,
   "id": "fa323fb3-6aac-470f-b6ef-d3a5671c773d",
   "metadata": {
    "pycharm": {
     "name": "#%%\n"
    }
   },
   "outputs": [],
   "source": [
    "# Create a table to insert the allocation results into\n",
    "createTableSql = f'''\n",
    "CREATE TABLE IF NOT EXISTS `{project_id}.{dataset_id}.allocations` \n",
    "(\n",
    "  child_id INT64 NOT NULL\n",
    ", present_id INT64 NOT NULL\n",
    ", include BOOL NOT NULL\n",
    ", exclude_present BOOL NOT NULL\n",
    ", present_allocation_exceeded BOOL NOT NULL\n",
    ", child_allocation_exceeded BOOL NOT NULL\n",
    ")\n",
    "'''\n",
    "\n",
    "queryJob = b.db.query(createTableSql)\n",
    "queryJob.result() # Wait until table is created"
   ]
  },
  {
   "cell_type": "code",
   "execution_count": null,
   "id": "3c7a9ba3-277d-4e37-8670-57b740a424ff",
   "metadata": {
    "pycharm": {
     "name": "#%%\n"
    }
   },
   "outputs": [],
   "source": [
    "# Clear out the table (to make sure it's empty)\n",
    "clearTableSql = f'''\n",
    "TRUNCATE TABLE `{project_id}.{dataset_id}.allocations`\n",
    "'''\n",
    "\n",
    "queryJob = b.db.query(clearTableSql)\n",
    "queryJob.result() # Wait until table is created"
   ]
  },
  {
   "cell_type": "code",
   "execution_count": null,
   "id": "a26e2c07-f4b1-40ea-87ae-6285a1abdbc3",
   "metadata": {
    "pycharm": {
     "name": "#%%\n"
    }
   },
   "outputs": [],
   "source": [
    "# Check there's nothing there\n",
    "a = b.q(f'''\n",
    "SELECT COUNT(*) AS allocation_count\n",
    "FROM `{project_id}.{dataset_id}.allocations` \n",
    "''')\n",
    "\n",
    "a"
   ]
  },
  {
   "cell_type": "code",
   "execution_count": null,
   "id": "a5979dbb-4dcb-457f-b856-b05d89e87c21",
   "metadata": {
    "pycharm": {
     "name": "#%%\n"
    }
   },
   "outputs": [],
   "source": [
    "# Add the allocations array into BQ\n",
    "df = pd.DataFrame([vars(a) for a in allocations])\n",
    "df.columns = [    \n",
    "    \"child_id\",\n",
    "    \"present_id\",\n",
    "    \"include\",\n",
    "    \"exclude_present\",\n",
    "    \"present_allocation_exceeded\",\n",
    "    \"child_allocation_exceeded\",\n",
    "]\n",
    "\n",
    "df.head()"
   ]
  },
  {
   "cell_type": "code",
   "execution_count": null,
   "id": "a645ccb4-9479-40cb-b516-e3ae9216827e",
   "metadata": {
    "pycharm": {
     "name": "#%%\n"
    }
   },
   "outputs": [],
   "source": [
    "# Insert the dataframe into the BQ table\n",
    "table = b.db.get_table(f'''{project_id}.{dataset_id}.allocations''')\n",
    "\n",
    "errors = b.db.insert_rows_from_dataframe(table, df)\n",
    "for chunk in errors:\n",
    "    print(f\"encountered {len(chunk)} errors: {chunk}\")"
   ]
  },
  {
   "cell_type": "code",
   "execution_count": null,
   "id": "b0e39058-19ad-42ca-820f-b1017e0b77e5",
   "metadata": {
    "pycharm": {
     "name": "#%%\n"
    }
   },
   "outputs": [],
   "source": [
    "# Check we've correctly inserted the data into the table\n",
    "a = b.q(f'''\n",
    "SELECT * \n",
    "FROM `{project_id}.{dataset_id}.allocations` \n",
    "ORDER BY child_id\n",
    "''')\n",
    "\n",
    "a.head()"
   ]
  },
  {
   "cell_type": "code",
   "execution_count": null,
   "id": "2db9ec75-022b-4c6c-823a-b2ceeab8fd26",
   "metadata": {
    "pycharm": {
     "name": "#%%\n"
    }
   },
   "outputs": [],
   "source": [
    "# Take a look at present alloctions for different children\n",
    "a = b.q(f'''\n",
    "SELECT a.child_id\n",
    ", c.name AS child_name\n",
    ", cps.child_dislike_present_types\n",
    ", cps.child_wish_present_types\n",
    ", c.number_of_presents\n",
    ", c.naughty\n",
    ", a.present_id\n",
    ", p.description AS present_desription\n",
    ", cps.present_types\n",
    ", p.value AS present_value\n",
    ", cps.br_excl_present_dislike_score\n",
    ", cps.br_weight_present_wish_score\n",
    ", cps.br_weight_present_diversity_score\n",
    ", cps.br_weight_product_value_score\n",
    ", cps.score\n",
    ", a.include\n",
    ", a.exclude_present\n",
    ", a.present_allocation_exceeded\n",
    ", a.child_allocation_exceeded\n",
    "FROM `{project_id}.{dataset_id}.allocations` a \n",
    "JOIN `{project_id}.{dataset_id}.child` c \n",
    "    ON a.child_id = c.id\n",
    "JOIN `{project_id}.{dataset_id}.present` p \n",
    "    ON a.present_id = p.id\n",
    "JOIN `{project_id}.{dataset_id}.child_present_score` cps \n",
    "    ON a.present_id = cps.present_id \n",
    "    AND a.child_id = cps.child_id\n",
    "WHERE TRUE\n",
    "    AND a.child_id = 1 -- Change to the child you'd like to see allocations for\n",
    "    AND a.include IS TRUE -- Comment this line out to see why the other presents weren't allocated\n",
    "ORDER BY a.child_id\n",
    ", cps.score DESC\n",
    ", a.present_id\n",
    "''')\n",
    "\n",
    "a"
   ]
  },
  {
   "cell_type": "code",
   "execution_count": null,
   "id": "096b19be-2191-43ad-8597-6ebbbed69abf",
   "metadata": {
    "pycharm": {
     "name": "#%%\n"
    }
   },
   "outputs": [],
   "source": []
  }
 ],
 "metadata": {
  "environment": {
   "kernel": "python3",
   "name": "common-cpu.m100",
   "type": "gcloud",
   "uri": "gcr.io/deeplearning-platform-release/base-cpu:m100"
  },
  "kernelspec": {
   "display_name": "Python 3",
   "language": "python",
   "name": "python3"
  },
  "language_info": {
   "codemirror_mode": {
    "name": "ipython",
    "version": 3
   },
   "file_extension": ".py",
   "mimetype": "text/x-python",
   "name": "python",
   "nbconvert_exporter": "python",
   "pygments_lexer": "ipython3",
   "version": "3.7.12"
  }
 },
 "nbformat": 4,
 "nbformat_minor": 5
}
